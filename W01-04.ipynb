{
 "cells": [
  {
   "cell_type": "code",
   "execution_count": 1,
   "id": "bad85d38-32ed-4d76-bcef-0f3613090ea5",
   "metadata": {},
   "outputs": [],
   "source": [
    "# για να δουλέψουν οι \"μαγικές εντολές\" που πιάνουν τα λάθη\n",
    "from os.path import basename, exists\n",
    "\n",
    "def download(url):\n",
    "    filename = basename(url)\n",
    "    if not exists(filename):\n",
    "        from urllib.request import urlretrieve\n",
    "\n",
    "        local, _ = urlretrieve(url, filename)\n",
    "        print(\"Κατέβηκε το \" + str(local))\n",
    "    return filename\n",
    "\n",
    "download('https://github.com/steliosxara/PythonTutorials/thinkpython.py')\n",
    "download('https://github.com/steliosxara/PythonTutorials/Quiz_Class.py')\n",
    "download('https://github.com/steliosxara/PythonTutorials/questions.py')\n",
    "\n",
    "import thinkpython"
   ]
  },
  {
   "cell_type": "markdown",
   "id": "0ebbce4e-a1e5-4520-8dff-c8ff5d83c2b6",
   "metadata": {},
   "source": [
    "# Εισαγωγή στην Python"
   ]
  },
  {
   "cell_type": "markdown",
   "id": "2b3bb12e-968a-4ad1-8f78-20e96fc2dda3",
   "metadata": {
    "editable": true,
    "slideshow": {
     "slide_type": ""
    },
    "tags": []
   },
   "source": [
    "## Τι είναι η Python?\n",
    "\n",
    "Η Python είναι μια δημοφιλής γλώσσα προγραμματισμού.  \n",
    "Δημιουργήθηκε από τον Guido van Rossum και κυκλοφόρησε το 1991.\n",
    "\n",
    "Χρησιμοποιείται για:\n",
    "- ανάπτυξη ιστοσελίδων (server-side),\n",
    "- ανάπτυξη λογισμικού,\n",
    "- τα μαθηματικά,\n",
    "- σεναριοποίηση συστημάτων."
   ]
  },
  {
   "cell_type": "markdown",
   "id": "ec328e21-71ee-45ac-b69b-71072076b8c9",
   "metadata": {},
   "source": [
    "## Τι μπορεί να κάνει η Python;\n",
    "\n",
    "- Η Python μπορεί να χρησιμοποιηθεί σε έναν διακομιστή για\n",
    "  - τη δημιουργία εφαρμογών ιστού.\n",
    "- Η Python μπορεί να χρησιμοποιηθεί παράλληλα με λογισμικό για\n",
    "  - τη δημιουργία ροών εργασίας.\n",
    "- Η Python μπορεί\n",
    "  - να συνδεθεί με συστήματα βάσεων δεδομένων.\n",
    "  - να διαβάσει και να τροποποιήσει αρχεία.\n",
    "- Η Python μπορεί να χρησιμοποιηθεί για\n",
    "  - τη διαχείριση μεγάλων δεδομένων και\n",
    "  - την εκτέλεση σύνθετων μαθηματικών υπολογισμών.\n",
    "- Η Python μπορεί να χρησιμοποιηθεί για\n",
    "  - γρήγορη δημιουργία πρωτοτύπων ή για\n",
    "  - την ανάπτυξη λογισμικού έτοιμου για παραγωγή."
   ]
  },
  {
   "cell_type": "markdown",
   "id": "f47ffcdf-ad40-4dd1-9bb3-01995156f710",
   "metadata": {},
   "source": [
    "## Γιατί Python;\n",
    "\n",
    "- Η Python λειτουργεί σε διαφορετικές πλατφόρμες:  \n",
    "  - Windows,  \n",
    "  - Mac,  \n",
    "  - Linux,  \n",
    "  - Raspberry Pi, κ.λπ.  \n",
    "- Η Python έχει μια απλή σύνταξη παρόμοια με  \n",
    "  - την αγγλική γλώσσα.  \n",
    "- Η Python έχει σύνταξη που επιτρέπει στους προγραμματιστές\n",
    "  - να γράφουν προγράμματα με λιγότερες γραμμές\n",
    "  - από ό,τι με άλλες γλώσσες προγραμματισμού.\n",
    "- Η Python λειτουργεί σε ένα σύστημα διερμηνέα, που σημαίνει ότι\n",
    "  - ο κώδικας μπορεί να εκτελεστεί αμέσως μόλις γραφτεί.\n",
    "  - Αυτό σημαίνει ότι η δημιουργία πρωτοτύπων μπορεί να γίνει πολύ γρήγορα.\n",
    "- Η Python μπορεί να χρησιμοποιηθεί\n",
    "  - με διαδικαστικό τρόπο,\n",
    "  - με αντικειμενοστρεφή τρόπο ή\n",
    "  - με συναρτησιακό τρόπο."
   ]
  },
  {
   "cell_type": "markdown",
   "id": "a1be6ade-f150-4061-8f8d-5631091e573e",
   "metadata": {},
   "source": [
    "## Καλό είναι να γνωρίζετε\n",
    "\n",
    "- Η πιο πρόσφατη σημαντική εκδοχή της Python είναι\n",
    " - η Python 3,\n",
    " - την οποία θα χρησιμοποιήσουμε σε αυτό το φροντιστήριο.\n",
    "- Ωστόσο, η Python 2, αν και δεν ανανεώνεται με τίποτα άλλο\n",
    "  - εκτός από ενημερώσεις ασφαλείας,\n",
    "  - εξακολουθεί να είναι αρκετά δημοφιλής. \n",
    "- Σε αυτό το φροντιστήριο, η Python θα συνταχθεί\n",
    "  - σε ένα πρόγραμμα επεξεργασίας κειμένου.\n",
    "- Είναι δυνατό να συνταχθεί η Python σε ένα ολοκληρωμένο περιβάλλον ανάπτυξης, όπως τα\n",
    "  - Visual Studio Code,\n",
    "  - IDLE,\n",
    "  - Thonny,\n",
    "  - Pycharm,\n",
    "  - Netbeans ή\n",
    "  - Eclipse,\n",
    "- τα οποία είναι ιδιαίτερα χρήσιμα κατά τη\n",
    "  - διαχείριση μεγαλύτερων συλλογών αρχείων Python."
   ]
  },
  {
   "cell_type": "markdown",
   "id": "a2b771e9-0dcb-4228-bc94-8c332b0f5dd4",
   "metadata": {},
   "source": [
    "## Η σύνταξη της Python σε σύγκριση με άλλες γλώσσες προγραμματισμού\n",
    "\n",
    "- Η Python σχεδιάστηκε με γνώμονα\n",
    "  - την ευκολία ανάγνωσης και\n",
    "  - έχει ορισμένες ομοιότητες με την αγγλική γλώσσα,\n",
    "  - με επιρροές από τα μαθηματικά.\n",
    "- Η Python για να ολοκληρώσει μια εντολή,\n",
    "  - χρησιμοποιεί νέες γραμμές\n",
    "- Σε αντίθεση άλλες γλώσσες προγραμματισμού\n",
    "  - συχνά χρησιμοποιούν ερωτηματικά ή παρενθέσεις.\n",
    "- Η Python βασίζεται στην εσοχή, χρησιμοποιώντας κενά,\n",
    "  - για να ορίσει το εύρος, όπως το εύρος\n",
    "    - των βρόχων,\n",
    "    - των συναρτήσεων και\n",
    "    - των κλάσεων.\n",
    "- Άλλες γλώσσες προγραμματισμού συχνά χρησιμοποιούν\n",
    "  - αγκύλες για το σκοπό αυτό."
   ]
  },
  {
   "cell_type": "markdown",
   "id": "1dd76ce1-8dbc-47ac-b60a-092b810a5a1d",
   "metadata": {},
   "source": [
    "## Παράδειγμα"
   ]
  },
  {
   "cell_type": "code",
   "execution_count": 2,
   "id": "64c39d32-8853-40cd-8f85-b8fc9cba7941",
   "metadata": {},
   "outputs": [
    {
     "name": "stdout",
     "output_type": "stream",
     "text": [
      "Hello, World!\n"
     ]
    }
   ],
   "source": [
    "print('Hello, World!')"
   ]
  },
  {
   "cell_type": "markdown",
   "id": "8b2976c4-54c3-4ad3-a8ed-a91e93e880a1",
   "metadata": {},
   "source": [
    "# Ξεκινώντας με την Python"
   ]
  },
  {
   "cell_type": "markdown",
   "id": "0d526e2f-18b5-4051-ae05-e82daa1b49f8",
   "metadata": {},
   "source": [
    "## Εγκατάσταση Python\n",
    "\n",
    "Σε πολλούς υπολογιστές PC και Mac η Python είναι ήδη εγκατεστημένη.\n",
    "\n",
    "- Για να ελέγξετε αν έχετε εγκατεστημένο την Python σε υπολογιστή με Windows,\n",
    "    - αναζητήστε την Python στη γραμμή έναρξης ή\n",
    "    - εκτελέστε την ακόλουθη εντολή στη γραμμή εντολών (cmd.exe):\n",
    ">```console\n",
    ">C:\\Users\\Your Name>python --version\n",
    ">```\n",
    "\n",
    "- Για να ελέγξετε αν έχετε εγκαταστήσει την Python σε Linux ή Mac, τότε\n",
    "    - σε Linux ανοίξτε τη γραμμή εντολών ή\n",
    "    - σε Mac ανοίξτε το Terminal και πληκτρολογήστε:\n",
    ">```console\n",
    ">python --version\n",
    ">```\n",
    "\n",
    "- Εάν διαπιστώσετε ότι δεν έχετε εγκατεστημένο την Python στον υπολογιστή σας,\n",
    "    - μπορείτε να την κατεβάσετε δωρεάν από τον ακόλουθο ιστότοπο:\n",
    "    - https://www.python.org/"
   ]
  },
  {
   "cell_type": "markdown",
   "id": "532cc566-e1d7-43bf-be40-6e3a510f9a2f",
   "metadata": {},
   "source": [
    "## Γρήγορη εκκίνηση Python\n",
    "\n",
    "Η Python είναι μια διερμηνευόμενη γλώσσα προγραμματισμού, αυτό σημαίνει ότι ως προγραμματιστής\n",
    "- γράφετε αρχεία Python (.py) σε ένα πρόγραμμα επεξεργασίας κειμένου και στη συνέχεια\n",
    "- τοποθετείτε αυτά τα αρχεία στον διερμηνέα Python για να εκτελεστούν.\n",
    "\n",
    "Ας γράψουμε το πρώτο μας αρχείο Python, με το όνομα `hello.py`, το οποίο μπορεί να γίνει σε οποιοδήποτε πρόγραμμα επεξεργασίας κειμένου:\n",
    ">`hello.py` :\n",
    ">```python\n",
    ">print(\"Hello, World!\")\n",
    ">```\n",
    "\n",
    "Τόσο απλά.\n",
    "- Αποθηκεύστε το αρχείο σας.\n",
    "- Ανοίξτε τη γραμμή εντολών,\n",
    "- πλοηγηθείτε στον κατάλογο όπου αποθηκεύσατε το αρχείο σας και\n",
    "- εκτελέστε το:\n",
    "```console\n",
    "C:\\Users\\Your Name>python hello.py\n",
    "```\n",
    "\n",
    "Η έξοδος θα πρέπει να είναι:\n",
    "```\n",
    "Hello, World!\n",
    "```\n",
    "Συγχαρητήρια, γράψατε και εκτελέσατε το πρώτο σας πρόγραμμα στην Python."
   ]
  },
  {
   "cell_type": "markdown",
   "id": "0efb90d8-8c12-432b-a4b6-e23b490d8288",
   "metadata": {},
   "source": [
    "## Επεξεργαστής Jupyter Python\n",
    "\n",
    "Το σημειωματάριο jupyter διαθέτει έναν επεξεργαστή Python όπου μπορείτε να εκτελέσετε τον δικό σας κώδικα Python και να δείτε το αποτέλεσμα αν είναι σε κελί με την ένδειξη `Code` όπως πιο κάτω:"
   ]
  },
  {
   "cell_type": "code",
   "execution_count": 3,
   "id": "3b13d0a7-16ce-45d0-b7e2-f40019d48326",
   "metadata": {},
   "outputs": [
    {
     "name": "stdout",
     "output_type": "stream",
     "text": [
      "Hello, World!\n"
     ]
    }
   ],
   "source": [
    "print(\"Hello, World!\")"
   ]
  },
  {
   "cell_type": "markdown",
   "id": "ddb9673a-fbee-42db-8fbd-f33553651853",
   "metadata": {},
   "source": [
    "**Σημείωση:** για να εκτελέσετε τον κώδικα\n",
    "- πατήστε <kbd>Shift + Enter</kbd> μέσα στο κελί, ή\n",
    "- πατήστε το τριγωνάκι $\\blacktriangleright$ από την γραμμή εργαλείων, ή \n",
    "- επιλέξτε από το μενού $\\fbox{Run} \\rightarrow \\fbox{Run Selected Cell}$\n",
    "\n",
    "Αυτός ο επεξεργαστής θα χρησιμοποιηθεί σε όλο το φροντιστήριο για να επιδείξει τις διάφορες πτυχές της Python."
   ]
  },
  {
   "cell_type": "markdown",
   "id": "1363f691-17ef-40da-9f28-a483d3758646",
   "metadata": {},
   "source": [
    "## Έκδοση Python\n",
    "\n",
    "Για να ελέγξετε την έκδοση Python του επεξεργαστή, μπορείτε να τη βρείτε εισάγοντας το άρθρωμα (module) sys:"
   ]
  },
  {
   "cell_type": "code",
   "execution_count": 4,
   "id": "2ecebfc9-a280-4449-8683-e4bc95edfad1",
   "metadata": {},
   "outputs": [
    {
     "name": "stdout",
     "output_type": "stream",
     "text": [
      "3.12.10 (tags/v3.12.10:0cc8128, Apr  8 2025, 12:21:36) [MSC v.1943 64 bit (AMD64)]\n"
     ]
    }
   ],
   "source": [
    "import sys\n",
    "\n",
    "print(sys.version)"
   ]
  },
  {
   "cell_type": "markdown",
   "id": "2a5e8dbb-b08a-4d71-ad26-d65c818903da",
   "metadata": {},
   "source": [
    "Θα μάθετε περισσότερα για την εισαγωγή αρθρωμάτων στο κεφάλαιο Αρθρώματα Python (modules)."
   ]
  },
  {
   "cell_type": "markdown",
   "id": "8324d4ea-d09d-4c00-b35f-824795912510",
   "metadata": {},
   "source": [
    "## Η γραμμή εντολών της Python\n",
    "\n",
    "Για να δοκιμάσετε μια μικρή ποσότητα κώδικα στην python, μερικές φορές είναι πιο γρήγορο και εύκολο να μην γράψετε τον κώδικα σε αρχείο.  \n",
    "Αυτό γίνεται εφικτό επειδή η Python μπορεί να εκτελεστεί ως γραμμή εντολών.\n",
    "\n",
    "Πληκτρολογήστε τα ακόλουθα στη γραμμή εντολών σε Windows, Mac ή Linux:\n",
    "```console\n",
    "C:\\Users\\Your Name> python\n",
    "```\n",
    "Or, if the `python` command did not work, you can try `py`:\n",
    "```console\n",
    "C:\\Users\\Your Name> py\n",
    "```"
   ]
  },
  {
   "cell_type": "markdown",
   "id": "1ede623f-8fd1-4339-be16-ee253aae8218",
   "metadata": {},
   "source": [
    "Από εκεί μπορείτε να γράψετε οποιοδήποτε python, συμπεριλαμβανομένου του παραδείγματος hello world από νωρίτερα στο φροντιστήριο:\n",
    "```python\n",
    "C:\\Users\\steli> python\n",
    "Python 3.13.5 (tags/v3.13.5:6cb20a2, Jun 11 2025, 16:15:46) [MSC v.1943 64 bit (AMD64)] on win32\n",
    "Type \"help\", \"copyright\", \"credits\" or \"license\" for more information.\n",
    ">>> print(\"Hello, World!\")\n",
    "```"
   ]
  },
  {
   "cell_type": "markdown",
   "id": "8222c196-ce00-47a1-abef-a5a2f84e366c",
   "metadata": {},
   "source": [
    "Το οποίο θα γράψει \"Hello, World!\" στη γραμμή εντολών αφού πατήσεις το <kbd>Enter</kbd> στο πληκτολόγιο:\n",
    "```python\n",
    "C:\\Users\\steli> python\n",
    "Python 3.13.5 (tags/v3.13.5:6cb20a2, Jun 11 2025, 16:15:46) [MSC v.1943 64 bit (AMD64)] on win32\n",
    "Type \"help\", \"copyright\", \"credits\" or \"license\" for more information.\n",
    ">>> print(\"Hello, World!\")\n",
    "Hello, World!\n",
    ">>> \n",
    "```"
   ]
  },
  {
   "cell_type": "markdown",
   "id": "8b47a6b3-0299-4416-aa75-cc4379f5f7a0",
   "metadata": {},
   "source": [
    "Κάθε φορά που τελειώνετε με τη γραμμή εντολών της python, μπορείτε απλά να πληκτρολογήσετε το εξής για να τερματίσετε τη διεπαφή γραμμής εντολών της python:\n",
    "```python\n",
    ">>> exit()\n",
    "```"
   ]
  },
  {
   "cell_type": "markdown",
   "id": "e7f56076-4237-4a3e-9d59-5bfc7f24f717",
   "metadata": {},
   "source": [
    "## Ασκήσεις\n",
    "\n",
    "Τρέξτε το επόμενο κελί για εμφανιστεί το κουίζ:"
   ]
  },
  {
   "cell_type": "code",
   "execution_count": 2,
   "id": "75002e2d-2127-4694-aef0-30ecfb226809",
   "metadata": {},
   "outputs": [
    {
     "data": {
      "text/html": [
       "\n",
       "    <style>\n",
       "    .quiz-container code {\n",
       "      background-color: #f4f4f4;\n",
       "      color: #c7254e;\n",
       "      padding: 4px 6px;\n",
       "      border-radius: 4px;\n",
       "      font-family: monospace;\n",
       "    }\n",
       "    </style>\n",
       "    "
      ],
      "text/plain": [
       "<IPython.core.display.HTML object>"
      ]
     },
     "metadata": {},
     "output_type": "display_data"
    },
    {
     "data": {
      "application/vnd.jupyter.widget-view+json": {
       "model_id": "8521c6cd858543d7addf04f0d90c2c0d",
       "version_major": 2,
       "version_minor": 0
      },
      "text/plain": [
       "Output()"
      ]
     },
     "metadata": {},
     "output_type": "display_data"
    }
   ],
   "source": [
    "from Quiz_Class import Quiz\n",
    "from Quiz_Questions import questions_get_started\n",
    "\n",
    "quiz = Quiz(questions_get_started)\n",
    "quiz.display"
   ]
  },
  {
   "cell_type": "markdown",
   "id": "7cad5b3e-36b7-46ec-a3ab-9ec7dab6d746",
   "metadata": {},
   "source": [
    "# Συντακτικό της Python"
   ]
  },
  {
   "cell_type": "markdown",
   "id": "65bfd8b8-95a8-476b-a1c5-bb57e3674474",
   "metadata": {},
   "source": [
    "## Εκτέλεση σύνταξης της Python\n",
    "\n",
    "Όπως μάθαμε στην προηγούμενη σελίδα, η σύνταξη της Python μπορεί να εκτελεστεί γράφοντας απευθείας στη γραμμή εντολών:\n",
    "```python\n",
    ">>> print(\"Hello, World!\")\n",
    "Hello, World!\n",
    "```\n",
    "Ή δημιουργώντας ένα αρχείο python στο διακομιστή (server), χρησιμοποιώντας την επέκταση .py και εκτελώντας το στη γραμμή εντολών:\n",
    "```console\n",
    "C:\\Users\\Your Name>python myfile.py\n",
    "```"
   ]
  },
  {
   "cell_type": "markdown",
   "id": "919fa99c-2995-4145-8f1b-6f54305a6019",
   "metadata": {},
   "source": [
    "## Εσοχή στην Python \n",
    "\n",
    "Η εσοχή αναφέρεται στα κενά διαστήματα στην αρχή μιας γραμμής κώδικα.  \n",
    "\n",
    "Ενώ σε άλλες γλώσσες προγραμματισμού η εσοχή στον κώδικα χρησιμεύει μόνο για λόγους αναγνωσιμότητας, στην Python η εσοχή είναι πολύ σημαντική.  \n",
    "\n",
    "Η Python χρησιμοποιεί την εσοχή για να υποδείξει ένα μπλοκ κώδικα.  "
   ]
  },
  {
   "cell_type": "code",
   "execution_count": 6,
   "id": "b1a63112-21e5-4962-aea5-45b52679eb14",
   "metadata": {},
   "outputs": [
    {
     "name": "stdout",
     "output_type": "stream",
     "text": [
      "Five is greater than two!\n"
     ]
    }
   ],
   "source": [
    "if 5 > 2:\n",
    "  print(\"Five is greater than two!\")"
   ]
  },
  {
   "cell_type": "markdown",
   "id": "e21acc3e-a7ff-43cb-bd2e-779635109f1a",
   "metadata": {},
   "source": [
    "Η Python θα σας δώσει σφάλμα αν παραλείψετε την εσοχή:"
   ]
  },
  {
   "cell_type": "code",
   "execution_count": 7,
   "id": "63f82811-ab4e-4c4c-bfe7-a362776552cd",
   "metadata": {},
   "outputs": [
    {
     "ename": "IndentationError",
     "evalue": "expected an indented block after 'if' statement on line 1 (3352824148.py, line 2)",
     "output_type": "error",
     "traceback": [
      "  \u001b[36mCell\u001b[39m\u001b[36m \u001b[39m\u001b[32mIn[7]\u001b[39m\u001b[32m, line 2\u001b[39m\n\u001b[31m    \u001b[39m\u001b[31mprint(\"Five is greater than two!\")\u001b[39m\n    ^\n\u001b[31mIndentationError\u001b[39m\u001b[31m:\u001b[39m expected an indented block after 'if' statement on line 1\n"
     ]
    }
   ],
   "source": [
    "%%expect IndentationError\n",
    "if 5 > 2:\n",
    "print(\"Five is greater than two!\")"
   ]
  },
  {
   "cell_type": "markdown",
   "id": "0a328d08-02cb-448a-9333-a52197552a28",
   "metadata": {},
   "source": [
    "Ο αριθμός των διαστημάτων εξαρτάται από εσάς ως προγραμματιστή, η πιο συνηθισμένη χρήση είναι τέσσερα, αλλά πρέπει να είναι τουλάχιστον ένα."
   ]
  },
  {
   "cell_type": "code",
   "execution_count": 8,
   "id": "96297b39-3b1c-4ce1-9bdc-3a8463dd1b9d",
   "metadata": {},
   "outputs": [
    {
     "name": "stdout",
     "output_type": "stream",
     "text": [
      "Five is greater than two!\n",
      "Five is greater than two!\n"
     ]
    }
   ],
   "source": [
    "if 5 > 2:\n",
    " print(\"Five is greater than two!\") \n",
    "if 5 > 2:\n",
    "        print(\"Five is greater than two!\") "
   ]
  },
  {
   "cell_type": "markdown",
   "id": "c5733431-2a81-4547-b994-ce5e67cd6ec4",
   "metadata": {},
   "source": [
    "Πρέπει να χρησιμοποιείτε τον ίδιο αριθμό διαστημάτων στο ίδιο μπλοκ κώδικα, διαφορετικά η Python θα σας δώσει σφάλμα:"
   ]
  },
  {
   "cell_type": "code",
   "execution_count": 9,
   "id": "99d303af-f3c6-4cc4-825a-b70dcd9c7e65",
   "metadata": {},
   "outputs": [
    {
     "ename": "IndentationError",
     "evalue": "unexpected indent (1240467842.py, line 3)",
     "output_type": "error",
     "traceback": [
      "  \u001b[36mCell\u001b[39m\u001b[36m \u001b[39m\u001b[32mIn[9]\u001b[39m\u001b[32m, line 3\u001b[39m\n\u001b[31m    \u001b[39m\u001b[31mprint(\"Five is greater than two!\")\u001b[39m\n    ^\n\u001b[31mIndentationError\u001b[39m\u001b[31m:\u001b[39m unexpected indent\n"
     ]
    }
   ],
   "source": [
    "%%expect IndentationError\n",
    "if 5 > 2:\n",
    " print(\"Five is greater than two!\")\n",
    "        print(\"Five is greater than two!\")"
   ]
  },
  {
   "cell_type": "markdown",
   "id": "b8ec69c5-9e61-4fed-8849-93ab2fe26a6b",
   "metadata": {},
   "source": [
    "## Μεταβλητές Python\n",
    "\n",
    "Στην Python, οι μεταβλητές δημιουργούνται όταν τους εκχωρείτε μια τιμή:"
   ]
  },
  {
   "cell_type": "code",
   "execution_count": 10,
   "id": "36574403-7d32-4092-94a9-536ca8fcd396",
   "metadata": {},
   "outputs": [],
   "source": [
    "x = 5\n",
    "y = \"Hello, World!\""
   ]
  },
  {
   "cell_type": "markdown",
   "id": "6276198d-dc53-407c-971a-fa4c32655914",
   "metadata": {},
   "source": [
    "Η Python δεν έχει εντολή για τη δήλωση μιας μεταβλητής.\n",
    "\n",
    "Θα μάθετε περισσότερα για τις μεταβλητές στο φροντιστήριο Μεταβλητές της Python."
   ]
  },
  {
   "cell_type": "markdown",
   "id": "4aadfc57-62d4-4d90-aed4-654474ead6dc",
   "metadata": {},
   "source": [
    "## Σχόλια\n",
    "\n",
    "Η Python έχει τη δυνατότητα σχολιασμού με σκοπό την τεκμηρίωση εντός του κώδικα.\n",
    "\n",
    "Τα σχόλια ξεκινούν με ένα `'#'`, και η Python θα αποδώσει το υπόλοιπο της γραμμής ως σχόλιο:"
   ]
  },
  {
   "cell_type": "code",
   "execution_count": 11,
   "id": "33418a11-3a80-436c-b2e7-24165d9889c4",
   "metadata": {},
   "outputs": [
    {
     "name": "stdout",
     "output_type": "stream",
     "text": [
      "Hello, World!\n"
     ]
    }
   ],
   "source": [
    "#This is a comment.\n",
    "print(\"Hello, World!\")"
   ]
  },
  {
   "cell_type": "markdown",
   "id": "5e674791-6f66-4989-9a1e-18160e732938",
   "metadata": {},
   "source": [
    "## Ασκήσεις\n",
    "\n",
    "Τρέξτε το επόμενο κελί για εμφανιστεί το κουίζ:"
   ]
  },
  {
   "cell_type": "code",
   "execution_count": 2,
   "id": "100b62ff-c738-4b80-bea1-40c4df928e53",
   "metadata": {},
   "outputs": [
    {
     "data": {
      "application/vnd.jupyter.widget-view+json": {
       "model_id": "72d8fe57816f484eb66c1c4ec2f4e72f",
       "version_major": 2,
       "version_minor": 0
      },
      "text/plain": [
       "Output()"
      ]
     },
     "metadata": {},
     "output_type": "display_data"
    }
   ],
   "source": [
    "from Quiz_Class import Quiz\n",
    "from Quiz_Questions import questions_syntax\n",
    "\n",
    "quiz = Quiz(questions_syntax)\n",
    "quiz.display"
   ]
  },
  {
   "cell_type": "markdown",
   "id": "1d77662f-0bee-4a4f-916d-e7b487e28bd1",
   "metadata": {},
   "source": [
    "# Σχόλια Python"
   ]
  },
  {
   "cell_type": "markdown",
   "id": "0dbf85a9-8e3e-439c-858e-5b31cedb9bf9",
   "metadata": {},
   "source": [
    "Τα σχόλια μπορούν να χρησιμοποιηθούν:\n",
    "- για την επεξήγηση του κώδικα Python.\n",
    "- για να κάνουν τον κώδικα πιο ευανάγνωστο.\n",
    "- για να αποτρέψουν την εκτέλεση κατά τον έλεγχο του κώδικα."
   ]
  },
  {
   "cell_type": "markdown",
   "id": "3caaab95-58fa-459b-adbc-82d9584e52c8",
   "metadata": {},
   "source": [
    "## Δημιουργώντας ένα σχόλιο\n",
    "\n",
    "Τα σχόλια ξεκινούν με ένα `#` και η Python θα τα αγνοήσει:"
   ]
  },
  {
   "cell_type": "code",
   "execution_count": 27,
   "id": "b956b15d-88e2-4d00-9c5b-f3ea5d37e3f1",
   "metadata": {},
   "outputs": [
    {
     "name": "stdout",
     "output_type": "stream",
     "text": [
      "Hello, World!\n"
     ]
    }
   ],
   "source": [
    "#This is a comment\n",
    "print(\"Hello, World!\")"
   ]
  },
  {
   "cell_type": "markdown",
   "id": "7c5db71c-f972-47a8-9bf8-2be93c7d91f5",
   "metadata": {},
   "source": [
    "Τα σχόλια μπορούν να τοποθετηθούν στο τέλος μιας γραμμής και η Python θα αγνοήσει την υπόλοιπη γραμμή:"
   ]
  },
  {
   "cell_type": "code",
   "execution_count": 28,
   "id": "62253225-da99-407d-95ac-08573b8c91be",
   "metadata": {},
   "outputs": [
    {
     "name": "stdout",
     "output_type": "stream",
     "text": [
      "Hello, World!\n"
     ]
    }
   ],
   "source": [
    "print(\"Hello, World!\") #This is a comment"
   ]
  },
  {
   "cell_type": "markdown",
   "id": "a303929d-dc9e-4bfe-94ab-1d2d9edf5f4d",
   "metadata": {},
   "source": [
    "Ένα σχόλιο δεν χρειάζεται να είναι κείμενο που εξηγεί τον κώδικα, μπορεί επίσης να χρησιμοποιηθεί για να αποτρέψει την εκτέλεση κώδικα από την Python:"
   ]
  },
  {
   "cell_type": "code",
   "execution_count": 29,
   "id": "83113294-3ab9-4628-a6d0-7345ca0942e2",
   "metadata": {},
   "outputs": [
    {
     "name": "stdout",
     "output_type": "stream",
     "text": [
      "Cheers, Mate!\n"
     ]
    }
   ],
   "source": [
    "#print(\"Hello, World!\")\n",
    "print(\"Cheers, Mate!\")"
   ]
  },
  {
   "cell_type": "markdown",
   "id": "2d42829c-e965-4da2-846d-bcf85af1dc29",
   "metadata": {},
   "source": [
    "## Σχόλια πολλαπλών γραμμών\n",
    "\n",
    "Η Python δεν διαθέτει σύνταξη για σχόλια πολλών γραμμών.\n",
    "\n",
    "Για να προσθέσετε ένα πολυγραμμικό σχόλιο θα μπορούσατε να εισάγετε ένα # για κάθε γραμμή:"
   ]
  },
  {
   "cell_type": "code",
   "execution_count": 31,
   "id": "07ae101d-d43d-418b-9b33-49c1334e5e14",
   "metadata": {},
   "outputs": [
    {
     "name": "stdout",
     "output_type": "stream",
     "text": [
      "Hello, World!\n"
     ]
    }
   ],
   "source": [
    "# This is a comment\n",
    "# written in\n",
    "# more than just one line\n",
    "print(\"Hello, World!\")"
   ]
  },
  {
   "cell_type": "markdown",
   "id": "5b17cf29-0f70-4f3c-aad4-778d992b190b",
   "metadata": {},
   "source": [
    "Ή, όχι ακριβώς όπως προβλέπεται, μπορείτε να χρησιμοποιήσετε μια συμβολοσειρά πολλών γραμμών.\n",
    "\n",
    "Δεδομένου ότι η Python θα αγνοήσει τα αλφαριθμητικά που δεν έχουν εκχωρηθεί σε μια μεταβλητή, μπορείτε να προσθέσετε ένα αλφαριθμητικό πολλαπλών γραμμών (τριπλά εισαγωγικά) στον κώδικά σας και να τοποθετήσετε το σχόλιό σας μέσα σε αυτό:"
   ]
  },
  {
   "cell_type": "code",
   "execution_count": 32,
   "id": "a4ff1f39-a0e5-4649-8b26-d34ce6fb8c2d",
   "metadata": {},
   "outputs": [
    {
     "name": "stdout",
     "output_type": "stream",
     "text": [
      "Hello, World!\n"
     ]
    }
   ],
   "source": [
    "\"\"\"\n",
    "This is a comment\n",
    "written in\n",
    "more than just one line\n",
    "\"\"\"\n",
    "print(\"Hello, World!\")"
   ]
  },
  {
   "cell_type": "markdown",
   "id": "b487811b-3f67-498c-b7e6-86139cda90ab",
   "metadata": {},
   "source": [
    "Εφόσον η συμβολοσειρά δεν εκχωρείται σε μια μεταβλητή, η Python θα διαβάσει τον κώδικα, αλλά στη συνέχεια θα τον αγνοήσει και θα έχετε κάνει ένα σχόλιο πολλαπλών γραμμών."
   ]
  },
  {
   "cell_type": "markdown",
   "id": "f9b3a53d-1bfc-49ab-8a26-90ae7269d292",
   "metadata": {},
   "source": [
    "## Ασκήσεις"
   ]
  },
  {
   "cell_type": "code",
   "execution_count": 1,
   "id": "367fa9dd-6eda-4f12-9765-d7409d49d9bb",
   "metadata": {},
   "outputs": [
    {
     "data": {
      "application/vnd.jupyter.widget-view+json": {
       "model_id": "a34652688b9441a2b611ffa9d18736cc",
       "version_major": 2,
       "version_minor": 0
      },
      "text/plain": [
       "Output()"
      ]
     },
     "metadata": {},
     "output_type": "display_data"
    }
   ],
   "source": [
    "# Τρέξτε το κελί για εμφανιστεί το κουίζ\n",
    "from Quiz_Class import Quiz\n",
    "from Quiz_Questions import questions_comments\n",
    "\n",
    "quiz = Quiz(questions_comments)\n",
    "quiz.display"
   ]
  },
  {
   "cell_type": "code",
   "execution_count": 14,
   "id": "1ef7a9c9-3503-461e-ad0a-7f277fefadbb",
   "metadata": {},
   "outputs": [
    {
     "name": "stdout",
     "output_type": "stream",
     "text": [
      "Γ'\t\"ωραιε\" Κόσμε\n",
      "Γεια'\t\"ωραιε\" Κόσμε\n"
     ]
    }
   ],
   "source": [
    "print(\"\"\"Γ'\\t\"ωραιε\" Κόσμε\"\"\")\n",
    "print(\"\"\"Γεια'\\t\"ωραιε\" Κόσμε\"\"\")"
   ]
  },
  {
   "cell_type": "code",
   "execution_count": 19,
   "id": "34b3db42-2ab1-48bd-a598-1285546b98b5",
   "metadata": {},
   "outputs": [
    {
     "name": "stdout",
     "output_type": "stream",
     "text": [
      "x+y= 20\n"
     ]
    },
    {
     "data": {
      "text/plain": [
       "9"
      ]
     },
     "execution_count": 19,
     "metadata": {},
     "output_type": "execute_result"
    }
   ],
   "source": [
    "x=4\n",
    "y=5\n",
    "print(\"x+y=\",x*y)\n",
    "x+y"
   ]
  },
  {
   "cell_type": "code",
   "execution_count": null,
   "id": "17475bfb-59a5-44d5-bbec-6479653ffa56",
   "metadata": {},
   "outputs": [],
   "source": []
  }
 ],
 "metadata": {
  "kernelspec": {
   "display_name": "Python 3 (ipykernel)",
   "language": "python",
   "name": "python3"
  },
  "language_info": {
   "codemirror_mode": {
    "name": "ipython",
    "version": 3
   },
   "file_extension": ".py",
   "mimetype": "text/x-python",
   "name": "python",
   "nbconvert_exporter": "python",
   "pygments_lexer": "ipython3",
   "version": "3.12.10"
  }
 },
 "nbformat": 4,
 "nbformat_minor": 5
}
